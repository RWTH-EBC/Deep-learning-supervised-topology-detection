{
 "cells": [
  {
   "cell_type": "markdown",
   "metadata": {
    "hide_input": false
   },
   "source": [
    "# budo_to_ontology"
   ]
  },
  {
   "cell_type": "markdown",
   "metadata": {},
   "source": [
    "This file explains the original code `budo_to_ontology` from Yingying Yang. The new version `jsonld_budo_to_ontology` from Belén Llopis takes the same functions and tools but changes the way the data is imported (instead of Excel it is with jsonld). Almost all the functions are maintained with some modifications, and only the ones from the tool `OnWithData` are removed. Thus, it has to be considered that the following explanations are from the original code without jsonld. "
   ]
  },
  {
   "cell_type": "markdown",
   "metadata": {},
   "source": [
    "First, libraries ar imported in Python.\n",
    "\n",
    "When using only `ontology_to_modelica` (not with _CoTeTo-GUI_), comment \n",
    "\n",
    "```python\n",
    "from ebc_sql import EbcSql\n",
    "```\n",
    "and uncomment \n",
    "\n",
    "```python\n",
    "from  CoTeTo.ebc_sql import EbcSql\n",
    "```"
   ]
  },
  {
   "cell_type": "code",
   "execution_count": 3,
   "metadata": {},
   "outputs": [],
   "source": [
    "from rdflib import RDFS, RDF, Namespace, Graph, URIRef, Literal\n",
    "import pandas as pd\n",
    "import networkx as nx\n",
    "import matplotlib.pyplot as plt\n",
    "import matplotlib as mpl\n",
    "from StyleFrame import StyleFrame \n",
    "from openpyxl import load_workbook\n",
    "import xlrd\n",
    "import os\n",
    "import scipy as sci\n",
    "import seaborn as sns\n",
    "from modelicares import SimRes\n",
    "#from  CoTeTo.ebc_sql import EbcSql\n",
    "from ebc_sql import EbcSql \n",
    "from collections import OrderedDict\n",
    "import datetime as dt\n",
    "import numpy as np\n",
    "import modelicares\n",
    "import tkinter"
   ]
  },
  {
   "cell_type": "markdown",
   "metadata": {},
   "source": [
    "Then, it is inizialized the graph. It is called:\n",
    "\n",
    "- RDFS and RDF\n",
    "- BRICK (Brick Tagsets). E.g., Temperature_Sensor is a subclass of Sensor\n",
    "- BF (Brick relationships). E.g., sensor1 is a point of vav1.\n",
    "- BUDO. Git link of the repository of this project."
   ]
  },
  {
   "cell_type": "code",
   "execution_count": 4,
   "metadata": {},
   "outputs": [],
   "source": [
    " # Initialize a graph\n",
    "RDFS # predefined namespace as 'http://www.w3.org/2000/01/rdf-schema#'\n",
    "RDF # predefined namespace as 'http://www.w3.org/1999/02/22-rdf-syntax-ns#'\n",
    "BRICK = Namespace('https://brickschema.org/schema/1.0.3/Brick#')\n",
    "BF = Namespace('https://brickschema.org/schema/1.0.3/BrickFrame#')\n",
    "EX = Namespace('http://example.com#')\n",
    "BUDO = Namespace('https://git.rwth-aachen.de/EBC/Team_BA/misc/Machine-Learning/tree/master/building_ml_platform/BUDO-M#')              \n"
   ]
  },
  {
   "cell_type": "markdown",
   "metadata": {},
   "source": [
    "## budo_to_graph function\n",
    "\n",
    "It uses other functions explained below:\n",
    "\n",
    "- generate_brick_budo_dic\n",
    "- generate_connect_dic\n",
    "- add_port\n",
    "- create_data_property_dataframe\n",
    "- delete_repeated_medium_property\n",
    "- add_boundary_condition_to_dataframe\n",
    "- add_relationship\n"
   ]
  },
  {
   "cell_type": "code",
   "execution_count": 5,
   "metadata": {},
   "outputs": [
    {
     "ename": "IndentationError",
     "evalue": "unindent does not match any outer indentation level (<tokenize>, line 25)",
     "output_type": "error",
     "traceback": [
      "\u001b[1;36m  File \u001b[1;32m\"<tokenize>\"\u001b[1;36m, line \u001b[1;32m25\u001b[0m\n\u001b[1;33m    point=budo_split[3].split('-')[1]\u001b[0m\n\u001b[1;37m    ^\u001b[0m\n\u001b[1;31mIndentationError\u001b[0m\u001b[1;31m:\u001b[0m unindent does not match any outer indentation level\n"
     ]
    }
   ],
   "source": [
    "               \n",
    "def budo_to_graph(path):\n",
    " # Combine all functions in loops to read BUDO Keys from Excel file and generate BrickModel\n",
    "    g = Graph()\n",
    "    g.bind('ex', EX)\n",
    "    g.bind('brick', BRICK)\n",
    "    g.bind('bf', BF)\n",
    "    g.bind('rdfs', RDFS)\n",
    "    g.bind('rdf', RDF)\n",
    "    g.bind('budo', BUDO)\n",
    "    (brick_dict,budo_dict)=generate_brick_budo_dic()\n",
    "    data = xlrd.open_workbook(path)\n",
    "    table = data.sheet_by_name(u'setup')\n",
    "    zone = table.cell(2,0).value\n",
    "    points=table.cell(2,1).value.split(',')\n",
    "    equipments=table.cell(2,2).value.split(',')      \n",
    "    points_dic={}\n",
    "    equipments_dic={}\n",
    "    data={'tag':[],'BUDO':[],'parameter':[],'value':[],'unit':[],'explanation':[]}\n",
    "    pt = pd.read_excel(path, sheet_name='BUDO Key')\n",
    "    for row in pt.iterrows():\n",
    "        budo_split=str(row[1][0]).split('_')\n",
    "        if budo_split[2].split('-')[1] == zone and  len(budo_split[3].split('-'))>1:\n",
    "           if budo_split[3].split('-')[1] in points:\n",
    "                point=budo_split[3].split('-')[1]\n",
    "                instance=str(row[1][0])\n",
    "                points_dic[point]=instance\n",
    "                key=budo_split[-2].split('.')[0]\n",
    "                if key in brick_dict.keys():\n",
    "                    tag=brick_dict[key]\n",
    "                elif key=='MEA':\n",
    "                    key=budo_split[-2]\n",
    "                    tag=brick_dict[key]\n",
    "                g.add((EX[instance], RDF.type,  BRICK[tag]))\n",
    "                g.add((EX[instance], BUDO['itemID'],Literal(str(row[1][1]))))\n",
    "                data=create_data_property_dataframe(points_dic[point],tag,data)\n",
    "           elif budo_split[3].split('-')[1] in equipments:\n",
    "               equipment=budo_split[3].split('-')[1]\n",
    "               if budo_split[-1] in[\"AI\",\"AO\",\"BI\",\"BO\"]:\n",
    "                    instance=str(row[1][0])\n",
    "                    key=budo_split[3].split('-')[0].split('.')[0]\n",
    "                    if equipment not in equipments_dic.keys():\n",
    "                        equipments_dic[equipment]='_'.join(budo_split[0:-2])                                      \n",
    "                        if key in brick_dict.keys():\n",
    "                            tag=brick_dict[key]\n",
    "                        else:\n",
    "                            key=budo_split[2].split('-')[0].split('.')[0]\n",
    "                            tag=brick_dict[key]\n",
    "                        g.add((EX[equipments_dic[equipment]], RDF.type, BRICK[tag]))\n",
    "                        g=add_port(equipments_dic[equipment],tag,g)\n",
    "                        data=create_data_property_dataframe(equipments_dic[equipment],tag,data)\n",
    "                    key=budo_split[-2].split('.')[0]\n",
    "                    tag=brick_dict[key]\n",
    "                    g.add((EX[instance], RDF.type,  BRICK[tag]))\n",
    "                    g.add((EX[instance], BUDO['itemID'],Literal(str(row[1][1]))))\n",
    "                    g.add((EX[equipments_dic[equipment]], BF.hasPoint, EX[instance])) \n",
    "               else:\n",
    "                    equipments_dic[equipment]=str(row[1][0])\n",
    "                    key=budo_split[3].split('-')[0].split('.')[0]\n",
    "                    if key in brick_dict.keys():\n",
    "                        tag=brick_dict[key]\n",
    "                        g.add((EX[equipments_dic[equipment]], RDF.type, BRICK[tag]))\n",
    "                    elif key in budo_dict.keys():\n",
    "                        tag=budo_dict[key]\n",
    "                        g.add((EX[equipments_dic[equipment]], RDF.type, BUDO[tag]))\n",
    "                    else:\n",
    "                        key=budo_split[2].split('-')[0].split('.')[0]\n",
    "                        tag=brick_dict[key]\n",
    "                        g.add((EX[equipments_dic[equipment]], RDF.type, BRICK[tag]))\n",
    "                    g=add_port(equipments_dic[equipment],tag,g)\n",
    "                    data=create_data_property_dataframe(equipments_dic[equipment],tag,data)\n",
    "#    print(equipments_dic)\n",
    "#    print(points_dic)    \n",
    "    connect_dic=generate_connect_dic(path)\n",
    "#    print(connect_dic)\n",
    "    g=add_relationship(g,connect_dic,equipments_dic,points_dic)    \n",
    "    data=add_boundary_condition_to_dataframe(g,data)\n",
    "    dataframe=delete_repeated_medium_property(data,g)\n",
    "    return g,dataframe"
   ]
  },
  {
   "cell_type": "markdown",
   "metadata": {},
   "source": [
    "### generate_brick_budo_dic\n",
    "\n",
    "\n",
    "This function creates two dictionaries: brick_dict and budo_dict. \n",
    "\n",
    "The first one stores the class in BRICK and the corresponding acronym in BUDO (of some components), and the second one stores the class in BUDO and the acronym in BUDO (right now this second one only stores the T-piece, which I think has something to do with this:\n",
    "_[...]the tool-chain requires the building’s BMS system to have very complete data points. However, some mechanical component such as T-piece usually has no data points associated with them. Therefore, there is no relevant BUDO Key in the process of modelling. As a result, users have to manually add the corresponding BUDO Key in the InputDataFile according to the rules of the BUDO Key, so that the established model is consistent with the real system.[...]_).\n",
    "\n",
    "File is read from the excel _mapping_ (sheet DICTIONARY) in path _Machine-Learning\\building_ml_platform\\BUDO-M\\Platform_Application_AI_Buildings_MA_Ying\\OntologyToModelica\\CoTeTo\\Loaders\\Auxiliary_).\n",
    "\n",
    "This is written like \n",
    "\n",
    "```python\n",
    "os.path.join(os.path.dirname(os.path.realpath(__file__)),'Loaders/Auxiliary/mapping.xlsx'\n",
    "```\n",
    "which means that it is joined (os.path.join) the path where the script is:\n",
    "\n",
    "```python\n",
    "os.path.dirname(os.path.realpath(__file__)\n",
    "```\n",
    "where `__file__` refers to the script file name and `(Loaders/Auxiliary/mapping.xlsx)` where the file is located, so the path is complete.\n",
    "\n",
    "Dictionaries created:\n",
    "\n"
   ]
  },
  {
   "attachments": {
    "brick_dict.PNG": {
     "image/png": "[encoded data removed]"
    }
   },
   "cell_type": "markdown",
   "metadata": {},
   "source": [
    "![brick_dict.PNG](attachment:brick_dict.PNG)"
   ]
  },
  {
   "attachments": {
    "budo_dict.PNG": {
     "image/png": "[encoded data removed]"
    }
   },
   "cell_type": "markdown",
   "metadata": {},
   "source": [
    "![budo_dict.PNG](attachment:budo_dict.PNG)"
   ]
  },
  {
   "cell_type": "code",
   "execution_count": 6,
   "metadata": {},
   "outputs": [],
   "source": [
    "def generate_brick_budo_dic():\n",
    "#reading mapping rules of BUDO Keys to Brick Schema and BUDO-M ontologies, and storing them in dictionaries\n",
    "    brick_dict={}\n",
    "    budo_dict={}\n",
    "    pt = pd.read_excel(os.path.join(os.path.dirname(os.path.realpath(__file__)),'Loaders/Auxiliary/mapping.xlsx'), sheet_name=\"DICTIONARY\")\n",
    "    for row in pt.iterrows():\n",
    "        brick_dict[str(row[1][1])]=str(row[1][0])\n",
    "        budo_dict[str(row[1][3])]=str(row[1][2])\n",
    "    return brick_dict,budo_dict\n"
   ]
  },
  {
   "cell_type": "markdown",
   "metadata": {},
   "source": [
    "### generate_connect_dic\n",
    "\n",
    "This function reads data from *initial.xlsx*, the sheet \"setup\". This means that `path` is where `initial.xlsx` is located. It reads connections between components and stores them in dictionary:\n",
    "\n"
   ]
  },
  {
   "attachments": {
    "connexions.PNG": {
     "image/png": "[encoded data removed]"
    }
   },
   "cell_type": "markdown",
   "metadata": {},
   "source": [
    "![connexions.PNG](attachment:connexions.PNG)"
   ]
  },
  {
   "cell_type": "markdown",
   "metadata": {},
   "source": [
    "\n",
    "It only reads in this columns of the \"setup\" excel sheet. `connect_dic`creates the dictionary, `connect_key` the list of keys of that dictionary. `iterrows` gives an iterator for reading in each row, so it reads on each row and column of these four columns and writes in the corresponding key a list of what is read in the cell (the connexions).\n",
    "Take into account that the values of each key are **lists**.\n",
    "\n",
    "If results in the following dictionary:"
   ]
  },
  {
   "attachments": {
    "connect_dict.PNG": {
     "image/png": "[encoded data removed]"
    }
   },
   "cell_type": "markdown",
   "metadata": {},
   "source": [
    "![connect_dict.PNG](attachment:connect_dict.PNG)"
   ]
  },
  {
   "cell_type": "code",
   "execution_count": null,
   "metadata": {},
   "outputs": [],
   "source": [
    "def generate_connect_dic(path):\n",
    "#reading connections between components and storing them in dictionary\n",
    "    connect_dic={'PRIM_PRIM':[],\n",
    "                     'SEC_PRIM':[],\n",
    "                     'PRIM_SEC':[],\n",
    "                     'SEC_SEC':[],\n",
    "                     'hasPoint':[]}\n",
    "    connect_key=['PRIM_PRIM','SEC_PRIM','PRIM_SEC','SEC_SEC','hasPoint']\n",
    "    pt = pd.read_excel(path, sheet_name='setup')\n",
    "    for row in pt.iterrows():\n",
    "        for i in range(3,8):\n",
    "            if str(row[1][i])!=\"nan\":\n",
    "                pair=str(row[1][i]).split(\",\")\n",
    "                connect_dic[connect_key[i-3]].append(pair)\n",
    "    return connect_dic             "
   ]
  },
  {
   "cell_type": "markdown",
   "metadata": {},
   "source": [
    "### add_port"
   ]
  },
  {
   "cell_type": "code",
   "execution_count": null,
   "metadata": {},
   "outputs": [],
   "source": [
    "def add_port(instance,tag,g):\n",
    "#adding port to components\n",
    "    if ('MX' in instance or 'DIV' in instance)or 'Heat_Pump' in tag or 'Heat_Exchanger'in tag:\n",
    "        g.add((EX[instance+'_PH.PRIM'], RDF.type, BUDO['portHeatflow.prim']))\n",
    "        g.add((EX[instance], BF.hasPart, EX[instance+'_PH.PRIM']))\n",
    "        g.add(( EX[instance+'_PH.SEC'], RDF.type, BUDO['portHeatflow.sec']))\n",
    "        g.add((EX[instance], BF.hasPart, EX[instance+'_PH.SEC']))\n",
    "    else:\n",
    "        g.add(( EX[instance+'_PH'], RDF.type, BUDO['portHeatflow']))\n",
    "        g.add((EX[instance], BF.hasPart,  EX[instance+'_PH']))\n",
    "    if 'DIV' in instance:\n",
    "        g.add(( EX[instance+'_PH.SEC'], BF.isFedBy, EX[instance+'_PH.PRIM']))  \n",
    "    if 'MX' in instance: \n",
    "        g.add(( EX[instance+'_PH.SEC'], BF.feeds, EX[instance+'_PH.PRIM']))  \n",
    "    return g"
   ]
  },
  {
   "cell_type": "markdown",
   "metadata": {},
   "source": [
    "### create_data_property_dataframe"
   ]
  },
  {
   "cell_type": "code",
   "execution_count": null,
   "metadata": {},
   "outputs": [],
   "source": [
    "def create_data_property_dataframe(instance,tag,data):\n",
    "#generating dataproperties for components and storing them in dataframe\n",
    "    gf = Graph()\n",
    "    gf.bind('brick', BRICK)\n",
    "    gf.bind('ex', EX)\n",
    "    gf.bind('budo', BUDO) \n",
    "    gf.parse(os.path.join(os.path.dirname(os.path.realpath(__file__)),'Loaders/Auxiliary/BRICK/Brick.ttl'), format='turtle')\n",
    "    gf.parse(os.path.join(os.path.dirname(os.path.realpath(__file__)),'Loaders/Auxiliary/BUDO_M/BUDO-M.ttl'), format='turtle')\n",
    "    ExcelSheet=['BRICK','BUDO']\n",
    "    ports_ontology=['portHeatflow.prim','portHeatflow.sec','portHeatflow.ter']\n",
    "    ports_budokey=['PH.PRIM','PH.SEC','PH.TER']\n",
    "    for ontology in ExcelSheet:\n",
    "        pt = pd.read_excel(os.path.join(os.path.dirname(os.path.realpath(__file__)),'Loaders/Auxiliary/mapping.xlsx'), sheet_name=ontology)\n",
    "        for row in pt.iterrows():\n",
    "            classes=str(row[1][0])\n",
    "            if ontology=='BRICK':\n",
    "                res=gf.query(\"\"\"ASK{brick:%s rdfs:subClassOf*  brick:%s }\"\"\" %(tag,classes))\n",
    "            else:\n",
    "                res=gf.query(\"\"\"ASK{budo:%s rdfs:subClassOf*  budo:%s }\"\"\" %(tag,classes))\n",
    "            if res:\n",
    "                if str(row[1][5])!='nan':\n",
    "                    data_property=str(row[1][5]).split('/')\n",
    "                    data_unit=str(row[1][6]).split(',')\n",
    "                    data_explanation=str(row[1][7]).split('/')\n",
    "                    for (properties,units,explanations) in zip(data_property,data_unit,data_explanation):\n",
    "                        data['tag'].append(tag)\n",
    "                        data['BUDO'].append(instance)\n",
    "                        data['parameter'].append(properties)\n",
    "                        data['value'].append(\"None\")\n",
    "                        data['unit'].append(units)\n",
    "                        data['explanation'].append(explanations)\n",
    "                for i in range (0,row[1][4]):\n",
    "                    if classes=='Valve'and (not('DIV' in instance or 'MX' in instance)):\n",
    "                        break\n",
    "                    if str(row[1][8])!='nan':\n",
    "                        if row[1][4]==1:\n",
    "                            port_tag='portHeatflow'\n",
    "                            port_key='PH'\n",
    "                        else:\n",
    "                            port_tag=ports_ontology[i]\n",
    "                            port_key=ports_budokey[i]\n",
    "                        port_data_property=str(row[1][8]).split('/')\n",
    "                        port_data_unit=str(row[1][9]).split(',')\n",
    "                        port_data_explanation=str(row[1][10]).split('/')\n",
    "                        for (properties,units,explanations) in zip(port_data_property,port_data_unit,port_data_explanation):      \n",
    "                            data['tag'].append( port_tag)\n",
    "                            data['BUDO'].append(instance+'_'+port_key)\n",
    "                            data['parameter'].append(properties)\n",
    "                            data['value'].append(\"None\")\n",
    "                            data['unit'].append(units)\n",
    "                            data['explanation'].append(explanations)\n",
    "    return data"
   ]
  },
  {
   "cell_type": "markdown",
   "metadata": {},
   "source": [
    "### delete_repeated_medium_property\n",
    "\n",
    "It uses other functions explained below:\n",
    "\n",
    "- check_medium_property_repeatation\n",
    "\n"
   ]
  },
  {
   "cell_type": "code",
   "execution_count": null,
   "metadata": {},
   "outputs": [],
   "source": [
    "def delete_repeated_medium_property(data,g):\n",
    "#deleting repeated declaration of data property medium in one fluid system\n",
    "    df = pd.DataFrame(data)\n",
    "    medium_list=[]\n",
    "    drop_list=[]\n",
    "    for index, row in df.iterrows():\n",
    "        if row[\"parameter\"]=='medium':\n",
    "            medium_repeated=check_medium_property_repeatation(g,row[\"tag\"],medium_list,row[\"BUDO\"])\n",
    "            if medium_repeated:\n",
    "               drop_list.append(index)\n",
    "            else:\n",
    "                medium_list.append(row[\"BUDO\"])\n",
    "    df_final=df.drop(drop_list)\n",
    "    return df_final    "
   ]
  },
  {
   "cell_type": "markdown",
   "metadata": {},
   "source": [
    "### check_medium_property_repeatation\n"
   ]
  },
  {
   "cell_type": "code",
   "execution_count": null,
   "metadata": {},
   "outputs": [],
   "source": [
    "def check_medium_property_repeatation(g,tag,medium_list,instance): \n",
    "#finding repeated declaration of data property medium in one fluid system\n",
    "    if \"portHeatflow\" in tag:\n",
    "        rows=g.query( \"\"\"SELECT ?o WHERE{  { ex:%s bf:feeds*  ?o.}union{  ex:%s bf:isFedBy* ?o.}union {{  ex:%s bf:feeds*  ?e.}union{  ex:%s bf:isFedBy* ?e.} ?e bf:hasPoint ?o.}} \"\"\" %(instance,instance,instance,instance))\n",
    "    else:\n",
    "        rows=g.query( \"\"\"SELECT ?o WHERE{ ex:%s bf:isPointOf ?a.  {?a bf:feeds*  ?o.}union{ ?a bf:isFedBy* ?o.}union {{ ?a bf:feeds*  ?e.}union{ ?a bf:isFedBy* ?e.} ?e bf:hasPoint ?o.}} \"\"\" %(instance))\n",
    "    m = {'http://example.com':''}\n",
    "    res = [[m[r.split('#')[0]]+ r.split('#')[1] if isinstance(r, URIRef) and '#' in r else r for r in row] for row in rows]\n",
    "    medium_repeated=False\n",
    "    for row in res:        \n",
    "        if row[0] in medium_list:\n",
    "            medium_repeated=True \n",
    "    return medium_repeated"
   ]
  },
  {
   "cell_type": "markdown",
   "metadata": {},
   "source": [
    "### add_boundary_condition_to_dataframe\n",
    "\n",
    "Until this one is used in __budo_to_graph__ function"
   ]
  },
  {
   "cell_type": "code",
   "execution_count": null,
   "metadata": {},
   "outputs": [],
   "source": [
    "def add_boundary_condition_to_dataframe(g,data): \n",
    "# finding our boundaries of systems, adding boundary data properties into dataframe\n",
    "    rows = g.query(\"\"\"SELECT ?s WHERE {?m bf:hasPart ?s. MINUS {?s bf:isFedBy ?n.}}\"\"\")\n",
    "    m = {'http://example.com':'',}\n",
    "    res = [[m[r.split('#')[0]]+ r.split('#')[1] if isinstance(r, URIRef) and '#' in r else r for r in row] for row in rows] \n",
    "    ports_dict={'PH.PRIM':'portHeatflow.prim','PH.SEC':'portHeatflow.sec','PH.TER':'portHeatflow.ter','PH':'portHeatflow'}\n",
    "    for equipment in res: \n",
    "         for item in equipment:\n",
    "             for properties,explanations,units in zip(['boundarypath.temperature','boundarypath.massflow'],['mat file directory for boundary condition temperature when needed','mat file directory for boundary condition massflow when needed'],['K','kg/s']):\n",
    "                data['tag'].append(ports_dict[item.split('_')[-1]])\n",
    "                data['BUDO'].append(item)\n",
    "                data['parameter'].append(properties)\n",
    "                data['value'].append(\"None\")\n",
    "                data['unit'].append(units)\n",
    "                data['explanation'].append(explanations)\n",
    "    return data           "
   ]
  },
  {
   "cell_type": "markdown",
   "metadata": {},
   "source": [
    "## create_data_property_excel"
   ]
  },
  {
   "cell_type": "code",
   "execution_count": null,
   "metadata": {},
   "outputs": [],
   "source": [
    "def create_data_property_excel(dataframe,sheet_name,path): \n",
    "#writing content of data property dataframe into a new Excel file\n",
    "    writer = StyleFrame.ExcelWriter(path)    \n",
    "    sf = StyleFrame(dataframe)\n",
    "    sf.set_column_width(columns=['tag', 'BUDO','parameter','explanation','value'], width=60)\n",
    "    sf.to_excel(writer,sheet_name)\n",
    "    writer.save()\n",
    "    writer.close()"
   ]
  },
  {
   "cell_type": "markdown",
   "metadata": {},
   "source": [
    "## add_data_property_excelsheet"
   ]
  },
  {
   "cell_type": "code",
   "execution_count": null,
   "metadata": {},
   "outputs": [],
   "source": [
    "def add_data_property_excelsheet(dataframe,sheet_name,path): \n",
    "#writing content of data property dataframe into a new worksheet of an Excel file\n",
    "    writer = StyleFrame.ExcelWriter(path)    \n",
    "    book = load_workbook(writer.path)\n",
    "    writer.book = book\n",
    "    sf = StyleFrame(dataframe)\n",
    "    sf.set_column_width(columns=['tag', 'BUDO','parameter','explanation','value'], width=60)\n",
    "    sf.to_excel(writer,sheet_name)\n",
    "    writer.save()\n",
    "    writer.close()"
   ]
  },
  {
   "cell_type": "markdown",
   "metadata": {},
   "source": [
    "## read_data_property_excel"
   ]
  },
  {
   "cell_type": "code",
   "execution_count": null,
   "metadata": {},
   "outputs": [],
   "source": [
    "def read_data_property_excel(g,path='data_property.xlsx'):\n",
    "#reading data properties values from Excel file and combine them into BrickModel with Data Property relationship\n",
    "    data_property= pd.read_excel(path)\n",
    "    for row in data_property.iterrows():\n",
    "        if str(row[1][5])!=\"None\":            \n",
    "            g.add((EX[str(row[1][0])], BUDO[str(row[1][2])],  Literal(str(row[1][5]))))\n",
    "    return g"
   ]
  },
  {
   "cell_type": "markdown",
   "metadata": {},
   "source": [
    "## add_relationship"
   ]
  },
  {
   "cell_type": "code",
   "execution_count": null,
   "metadata": {},
   "outputs": [],
   "source": [
    "def add_relationship(g,connect_dic,equipments_dic,points_dic):\n",
    "#Adding relationship between components\n",
    "    for relationship in connect_dic.keys():\n",
    "        if relationship==\"hasPoint\":\n",
    "           for item in connect_dic[relationship]:\n",
    "               if (len(equipments_dic[item[0]].split(\"_\"))==4 and (equipments_dic[item[0]].split(\"_\")[2].split('-')[0].split('.')[0] in ['HP','HX'])) or 'DIV' in equipments_dic[item[0]] or 'MX' in equipments_dic[item[0]] :#BUDO                  \n",
    "                   if  'HP' in equipments_dic[item[0]] and \"WS.H\" in points_dic[item[1]]:\n",
    "                       g.add((EX[equipments_dic[item[0]]+'_PH.PRIM'], BF[\"hasPoint\"], EX[points_dic[item[1]]]))\n",
    "                   if  'HP' in equipments_dic[item[0]] and \"WS.CH\" in points_dic[item[1]]:\n",
    "                       g.add((EX[equipments_dic[item[0]]+'_PH.SEC'], BF[\"hasPoint\"], EX[points_dic[item[1]]])) \n",
    "                   if  ('HX' in equipments_dic[item[0]] or  'DIV' in equipments_dic[item[0]] or 'MX' in equipments_dic[item[0]])and \"PRIM\" in points_dic[item[1]]:\n",
    "                       g.add((EX[equipments_dic[item[0]]+'_PH.PRIM'], BF[\"hasPoint\"], EX[points_dic[item[1]]]))\n",
    "                   if  ('HX' in equipments_dic[item[0]] or  'DIV' in equipments_dic[item[0]] or 'MX' in equipments_dic[item[0]]) and \"SEC\" in points_dic[item[1]]:\n",
    "                       g.add((EX[equipments_dic[item[0]]+'_PH.SEC'], BF[\"hasPoint\"], EX[points_dic[item[1]]]))\n",
    "               else:                   \n",
    "                   g.add((EX[equipments_dic[item[0]]+'_PH'], BF[\"hasPoint\"], EX[points_dic[item[1]]]))\n",
    "        else:\n",
    "            for item in connect_dic[relationship]:\n",
    "                relate=relationship.split('_')\n",
    "                if (len(equipments_dic[item[0]].split(\"_\"))==4 and ('HX' in equipments_dic[item[0]] or 'HP' in equipments_dic[item[0]])) or 'DIV' in equipments_dic[item[0]] or 'MX' in equipments_dic[item[0]]:\n",
    "                    port_out=equipments_dic[item[0]]+'_PH.'+relate[0]\n",
    "                else:\n",
    "                    port_out=equipments_dic[item[0]]+'_PH'\n",
    "                if (len(equipments_dic[item[1]].split(\"_\"))==4 and ('HX' in equipments_dic[item[1]] or 'HP' in equipments_dic[item[1]])) or 'DIV' in equipments_dic[item[1]] or 'MX' in equipments_dic[item[1]]:\n",
    "                    port_in=equipments_dic[item[1]]+'_PH.'+relate[1]\n",
    "                else:\n",
    "                    port_in=equipments_dic[item[1]]+'_PH'                  \n",
    "                g.add((EX[port_out], BF[\"feeds\"], EX[port_in]))\n",
    "    g=add_reverse_relationship(g)\n",
    "    return g"
   ]
  },
  {
   "cell_type": "markdown",
   "metadata": {},
   "source": [
    "## add_reverse_relationship"
   ]
  },
  {
   "cell_type": "code",
   "execution_count": null,
   "metadata": {},
   "outputs": [],
   "source": [
    "def add_reverse_relationship(g):\n",
    "#Adding reverse relationships between components\n",
    "    res = g.query(\"SELECT ?a ?b WHERE { ?a bf:hasPart ?b .}\")\n",
    "    for row in res:\n",
    "        g.add((row[1], BF.isPartOf, row[0]))\n",
    "    res = g.query(\"SELECT ?a ?b WHERE { ?a bf:isPartOf ?b .}\")\n",
    "    for row in res:\n",
    "        g.add((row[1], BF.hasPart, row[0]))\n",
    "    \n",
    "    res = g.query(\"SELECT ?a ?b WHERE {?a bf:hasPoint ?b .}\")\n",
    "    for row in res:\n",
    "        g.add((row[1], BF.isPointOf, row[0]))\n",
    "    res = g.query(\"SELECT ?a ?b WHERE {?a bf:isPointOf ?b .}\")\n",
    "    for row in res:\n",
    "        g.add((row[1], BF.hasPoint, row[0]))\n",
    "    \n",
    "    res = g.query(\"SELECT ?a ?b WHERE {?a bf:feeds ?b .}\")\n",
    "    for row in res:\n",
    "        if '_'.join(row[1].split('_')[0:-1])!='_'.join(row[0].split('_')[0:-1]):\n",
    "            g.add((row[1], BF.isFedBy, row[0]))\n",
    "    res = g.query(\"SELECT ?a ?b WHERE {?a bf:isFedBy ?b .}\")\n",
    "    for row in res:\n",
    "        if '_'.join(row[1].split('_')[0:-1])!='_'.join(row[0].split('_')[0:-1]):\n",
    "            g.add((row[1], BF.feeds, row[0]))\n",
    "    \n",
    "    res = g.query(\"SELECT ?a ?b WHERE {?a bf:contains ?b .}\")\n",
    "    for row in res:\n",
    "        g.add((row[1], BF.isLocatedIn, row[0]))\n",
    "    res = g.query(\"SELECT ?a ?b WHERE {?a bf:isLocatedIn ?b .}\")\n",
    "    for row in res:\n",
    "        g.add((row[1], BF.contains, row[0]))\n",
    "    \n",
    "    res = g.query(\"SELECT ?a ?b WHERE {?a bf:controls ?b .}\")\n",
    "    for row in res:\n",
    "        g.add((row[1], BF.isControlledBy, row[0]))\n",
    "    res = g.query(\"SELECT ?a ?b WHERE {?a bf:isControlledBy ?b .}\")\n",
    "    for row in res:\n",
    "        g.add((row[1], BF.controls, row[0]))\n",
    "    \n",
    "    res = g.query(\"SELECT ?a ?b WHERE {?a bf:hasOutput ?b .}\")\n",
    "    for row in res:\n",
    "        g.add((row[1], BF.isOutputOf, row[0]))\n",
    "    \n",
    "    res = g.query(\"SELECT ?a ?b WHERE {?a bf:hasInput ?b .}\")\n",
    "    for row in res:\n",
    "        g.add((row[1], BF.isInputOf, row[0]))\n",
    "    \n",
    "    res = g.query(\"SELECT ?a ?b WHERE {?a bf:hasTagSet ?b .}\")\n",
    "    for row in res:\n",
    "        g.add((row[1], BF.isTagSetOf, row[0]))\n",
    "    \n",
    "    res = g.query(\"SELECT ?a ?b WHERE {?a bf:hasToken ?b .}\")\n",
    "    for row in res:\n",
    "        g.add((row[1], BF.isTokenOf, row[0]))\n",
    "    \n",
    "    return g"
   ]
  },
  {
   "cell_type": "markdown",
   "metadata": {},
   "source": [
    "## print_graph"
   ]
  },
  {
   "cell_type": "code",
   "execution_count": null,
   "metadata": {},
   "outputs": [],
   "source": [
    "def print_graph(g):\n",
    "#print contents of BrickModel\n",
    "    g_str = g.serialize(format='turtle').decode('utf-8')\n",
    "    print(g_str)"
   ]
  },
  {
   "cell_type": "markdown",
   "metadata": {},
   "source": [
    "## query_result"
   ]
  },
  {
   "cell_type": "code",
   "execution_count": null,
   "metadata": {},
   "outputs": [],
   "source": [
    "def query_result(rows):\n",
    "#processing result of SPARQL query\n",
    "    m = {\n",
    "        'https://brickschema.org/schema/1.0.3/Brick': 'brick',\n",
    "        'http://www.w3.org/1999/02/22-rdf-syntax-ns': 'rdf',\n",
    "        'http://www.w3.org/2000/01/rdf-schema': 'rdfs',\n",
    "        'https://brickschema.org/schema/1.0.3/BrickFrame': 'bf',\n",
    "        'http://www.w3.org/2002/07/owl': 'owl',\n",
    "        'http://www.w3.org/2004/02/skos/core': 'skos',\n",
    "        'http://example.com': 'ex',\n",
    "        'https://git.rwth-aachen.de/EBC/Team_BA/misc/Machine-Learning/tree/master/building_ml_platform/BUDO-M':'budo'\n",
    "        }\n",
    "    res = [[m[r.split('#')[0]] + ':' + r.split('#')[1] if isinstance(r, URIRef) and '#' in r else r for r in row] for row in rows]\n",
    "    return res\n",
    "    "
   ]
  },
  {
   "cell_type": "markdown",
   "metadata": {},
   "source": [
    "## visualization"
   ]
  },
  {
   "cell_type": "code",
   "execution_count": null,
   "metadata": {},
   "outputs": [],
   "source": [
    "def visualization(g):\n",
    "# visualization of the BrickModel\n",
    "    q1 = \"\"\"select ?s ?p ?o where {?s ?p ?o .}\"\"\"\n",
    "    q2 = \"\"\"select ?s where {?o rdfs:subClassOf* brick:Point. ?s rdf:type ?o}\"\"\"\n",
    "    q3 = \"\"\"select ?s where {{?o rdfs:subClassOf* brick:Equipment. ?s rdf:type ?o} UNION{?o rdfs:subClassOf* budo:pipeFitting. ?s rdf:type ?o}} \"\"\"\n",
    "    q4 = \"\"\"select ?s where {?o rdfs:subClassOf* brick:Location. ?s rdf:type ?o}\"\"\"\n",
    "    q5 = \"\"\"select ?s where {?o rdfs:subClassOf* budo:Port. ?s rdf:type ?o}\"\"\"\n",
    "    rows = g.query(q1)\n",
    "    res=query_result(rows)\n",
    "    G = nx.DiGraph()    \n",
    "    for row in res:\n",
    "        if 'ex' in row[2]:\n",
    "            G.add_edge(row[0], row[2],predicate=row[1]) \n",
    "    g.parse(os.path.join(os.path.dirname(os.path.realpath(__file__)),'Loaders/Auxiliary/BRICK/Brick.ttl'), format='turtle') \n",
    "    g.parse(os.path.join(os.path.dirname(os.path.realpath(__file__)),'Loaders/Auxiliary/BUDO_M/BUDO-M.ttl'), format='turtle')\n",
    "    query_list=[q2,q3,q4,q5]\n",
    "    color_choice=['green','red','yellow','black']\n",
    "    i=0\n",
    "    for q in query_list:        \n",
    "        rows = g.query(q)\n",
    "        res=query_result(rows)\n",
    "        for row in res:   \n",
    "            G.node[row[0]]['color'] = color_choice[i]\n",
    "        i=i+1\n",
    "#        print(G.nodes(data=True))  \n",
    "    colors=[]\n",
    "    for node,attribute in tuple (G.nodes(data=True)):  \n",
    "        if 'color'in attribute:\n",
    "            colors.append(attribute['color'])\n",
    "        else:\n",
    "            colors.append('pink')\n",
    "    nx.draw(G,pos=nx.spring_layout(G),with_labels=True, edge_color='b',node_size=300, node_color = colors,arrows=True,width=0.3,font_family='sans-serif', alpha=0.5, font_size=4)        \n",
    "#    plt.savefig(path, dpi =2000)\n",
    "    plt.show()"
   ]
  },
  {
   "cell_type": "markdown",
   "metadata": {},
   "source": [
    "## get_points"
   ]
  },
  {
   "cell_type": "code",
   "execution_count": null,
   "metadata": {},
   "outputs": [],
   "source": [
    "def get_points(class_name,g,ontology,u):   \n",
    "#SPARQL queries for finding out instance belonging to given classes   \n",
    "    g.parse(os.path.join(os.path.dirname(os.path.realpath(__file__)),'Loaders/Auxiliary/BRICK/Brick.ttl'), format='turtle')\n",
    "    g.parse(os.path.join(os.path.dirname(os.path.realpath(__file__)),'Loaders/Auxiliary/BUDO_M/BUDO-M.ttl'), format='turtle')\n",
    "    if ontology==\"BRICK\":\n",
    "        rows = g.query(\"\"\"\n",
    "        SELECT ?s\n",
    "        WHERE {\n",
    "            ?p rdf:type owl:Class.\n",
    "            ?p rdfs:subClassOf* brick:%s .\n",
    "            ?s rdf:type ?p .\n",
    "           \n",
    "        }\n",
    "        \"\"\" %(class_name))\n",
    "    else:\n",
    "        rows = g.query(\"\"\"\n",
    "        SELECT ?s\n",
    "        WHERE {\n",
    "            ?p rdf:type owl:Class.\n",
    "            ?p rdfs:subClassOf* budo:%s .\n",
    "            ?s rdf:type ?p .\n",
    "        }\n",
    "        \"\"\" %(class_name)) \n",
    "    m = {\n",
    "        'https://brickschema.org/schema/1.0.3/Brick': 'brick',\n",
    "        'http://www.w3.org/1999/02/22-rdf-syntax-ns': 'rdf',\n",
    "        'http://www.w3.org/2000/01/rdf-schema': 'rdfs',\n",
    "        'https://brickschema.org/schema/1.0.3/BrickFrame': 'bf',\n",
    "        'http://www.w3.org/2002/07/owl': 'owl',\n",
    "        'http://www.w3.org/2004/02/skos/core': 'skos',\n",
    "        'http://example.com': '',\n",
    "        'https://git.rwth-aachen.de/EBC/Team_BA/misc/Machine-Learning/tree/master/building_ml_platform/BUDO-M':'budo'\n",
    "        }\n",
    "    res = [[m[r.split('#')[0]] + r.split('#')[1] if isinstance(r, URIRef) and '#' in r else r for r in row] for row in rows]\n",
    "    return res"
   ]
  },
  {
   "cell_type": "markdown",
   "metadata": {},
   "source": [
    "## ask_if_model_with_pipe"
   ]
  },
  {
   "cell_type": "code",
   "execution_count": 10,
   "metadata": {},
   "outputs": [],
   "source": [
    "def ask_if_model_with_pipe():\n",
    "#ask user choices, if generating model with pipe lines\n",
    "    root = tkinter.Tk()\n",
    "    root.title(\"\")\n",
    "    screenwidth = root.winfo_screenwidth()\n",
    "    screenheight = root.winfo_screenheight()\n",
    "    size = '%dx%d+%d+%d' % (250, 150, (screenwidth - 250)/2, (screenheight - 150)/2)\n",
    "    root.geometry(size)    \n",
    "    group = tkinter.LabelFrame(root,text = 'Generate model with pipeline?',padx = 5,pady = 5)\n",
    "    group.pack(padx = 10,pady = 10)\n",
    "    options = ['Yes','No']\n",
    "    v = tkinter.StringVar()\n",
    "    v.set('Yes')\n",
    "    for choice in options:\n",
    "        tkinter.Radiobutton(group,text =choice,variable = v,value = choice).pack(anchor = tkinter.W)\n",
    "    tkinter.Button(root, text =\"confirm\",command=root.destroy).pack()\n",
    "    root.mainloop()\n",
    "    choice=v.get()    \n",
    "    return choice       "
   ]
  },
  {
   "cell_type": "markdown",
   "metadata": {},
   "source": [
    "## generate_boundary_condition_file\n",
    "\n",
    "\n",
    "It uses other functions:\n",
    "- convert_value\n",
    "- \n",
    "\n",
    "This is the `BouGen` tool. It reads data from SQL database and writes it into _mat_ File according to user requirements in Excel File.\n",
    "\n",
    "`xlrd.open_workbook` opens the workbook and `sheet_by_name` selects the proper sheet. `cell(2,8)` means row 3 and column I in Excel (it is zero indexed)."
   ]
  },
  {
   "cell_type": "code",
   "execution_count": null,
   "metadata": {},
   "outputs": [],
   "source": [
    "def generate_boundary_condition_file(inputpath,outputpath):\n",
    "# reading data from SQL database and writing them into mat File according to user requirements in Excel File\n",
    "    data = xlrd.open_workbook(inputpath)\n",
    "    table = data.sheet_by_name(u'setup')\n",
    "    time_start = str(table.cell(2,8).value)\n",
    "    time_end=str(table.cell(2,9).value)\n",
    "    pt = pd.read_excel(inputpath, sheet_name='setup')\n",
    "    for row in pt.iterrows():\n",
    "        if str(row[1][10])!=\"nan\":\n",
    "            key='_'.join(str(row[1][10]).split('_')[0:4])\n",
    "            itemID=int(row[1][11])\n",
    "            (value_mea,time_mea,time_mea_date_form)=load_mea_result(key,itemID,time_start,time_end) \n",
    "            value_mea=convert_value(str(row[1][12]),str(row[1][13]),value_mea)          \n",
    "            matrix_name='data' \n",
    "            matrix=np.column_stack([value_mea.index, value_mea])\n",
    "            output='/'.join(outputpath.split(\".\")[0].split('/')[0:-1])+'/'+str(row[1][11])+'.mat'\n",
    "            sci.io.savemat(output,{matrix_name:matrix})   "
   ]
  },
  {
   "cell_type": "markdown",
   "metadata": {},
   "source": [
    "## convert_value"
   ]
  },
  {
   "cell_type": "code",
   "execution_count": null,
   "metadata": {},
   "outputs": [],
   "source": [
    "def convert_value (plus,multiply,value):\n",
    "#altering units of data\n",
    "    if plus!=\"nan\":\n",
    "        value=value+float(plus)\n",
    "    if multiply!=\"nan\":\n",
    "        value=value*float(multiply)\n",
    "    return value"
   ]
  },
  {
   "cell_type": "markdown",
   "metadata": {},
   "source": [
    "## load_sim_result"
   ]
  },
  {
   "cell_type": "code",
   "execution_count": null,
   "metadata": {},
   "outputs": [],
   "source": [
    "def load_sim_result(simrespath,variable):\n",
    "#loading simulation results\n",
    "    sims, __ = modelicares.load(simrespath)\n",
    "    value_sim = sims[variable].values()\n",
    "    time_sim=sims[variable].times()\n",
    "    value_sim=value_sim[0]\n",
    "    time_sim=time_sim[0]\n",
    "    return value_sim,time_sim"
   ]
  },
  {
   "cell_type": "markdown",
   "metadata": {},
   "source": [
    "## load_mea_result"
   ]
  },
  {
   "cell_type": "code",
   "execution_count": null,
   "metadata": {},
   "outputs": [],
   "source": [
    "def load_mea_result(budo_key,itemID,time_start,time_end):\n",
    "#loading measured data from databases\n",
    "    path_to_config = os.path.join(os.path.dirname(os.path.realpath(__file__)),\"res/settings_standard.ini\")\n",
    "    option_groups = \"odbc_from\"\n",
    "    connection = EbcSql(option_files=path_to_config,option_groups=option_groups)\n",
    "    connection.set_standard(option_files=path_to_config,option_groups=[\"ts_database_from\", \"format\"])\n",
    "    time_start_df=dt.datetime.strptime(time_start, \"%Y-%m-%d %H:%M:%S\")\n",
    "    ids_ordered_dict = OrderedDict([(itemID,budo_key)])        \n",
    "    data = connection.get_timeseries_df(ids=ids_ordered_dict,\n",
    "                                        time_start=time_start,\n",
    "                                        time_end=time_end,\n",
    "                                        sort_by=\"ts_time_column\",\n",
    "                                        sort_order=\"ASC\",\n",
    "                                        use_query=True,\n",
    "                                        get_last_value_before=True,\n",
    "                                        replace_first_index=True)\n",
    "    value_mea=data[budo_key]\n",
    "    value_mea.index = (value_mea.index-time_start_df).total_seconds()\n",
    "    time_mea=(data.index-time_start_df).total_seconds()\n",
    "    time_mea_date_form = data.index\n",
    "    return value_mea,time_mea,time_mea_date_form"
   ]
  },
  {
   "cell_type": "markdown",
   "metadata": {},
   "source": [
    "## reshape_mea_result"
   ]
  },
  {
   "cell_type": "code",
   "execution_count": null,
   "metadata": {},
   "outputs": [],
   "source": [
    "def reshape_mea_result(value_mea,time_mea,time_sim):\n",
    "#interploting measured data in order to have the same scope with the simulated data.\n",
    "    tck =sci.interpolate.splrep(time_mea, value_mea)\n",
    "    value_mea = sci.interpolate.splev(time_sim,tck)\n",
    "    return value_mea"
   ]
  },
  {
   "cell_type": "markdown",
   "metadata": {},
   "source": [
    "## plot_sim_graph"
   ]
  },
  {
   "cell_type": "code",
   "execution_count": null,
   "metadata": {},
   "outputs": [],
   "source": [
    "def plot_sim_graph(setuppath,simrespath=None):\n",
    "#print the graph of simulationsresult and measured data\n",
    "    data = xlrd.open_workbook(setuppath)\n",
    "    table = data.sheet_by_name(u'setup')\n",
    "    time_start = str(table.cell(2,8).value)\n",
    "    time_end=str(table.cell(2,9).value)\n",
    "    pt = pd.read_excel(setuppath, sheet_name='result plot')        \n",
    "    for row in pt.iterrows():\n",
    "        if str(row[1][1])!=\"nan\":\n",
    "            sns.set_palette(\"muted\")\n",
    "            sns.set_style(\"whitegrid\")\n",
    "            key='_'.join(str(row[1][1]).split('_')[0:4])\n",
    "            itemID=int(row[1][2])\n",
    "            (value_mea,time_mea,time_mea_date_form)=load_mea_result(key,itemID,time_start,time_end)  \n",
    "            value_mea=convert_value(str(row[1][3]),str(row[1][4]),value_mea)\n",
    "            if  str(row[1][0])==\"nan\": \n",
    "                plt.plot(time_mea_date_form, value_mea, label=str(row[1][1]))                               \n",
    "            else: \n",
    "                variable=str(row[1][0])  \n",
    "                value_sim,time_sim=load_sim_result(simrespath,variable)\n",
    "#                value_mea=reshape_mea_result(value_mea,time_mea,time_sim)\n",
    "                plt.plot(time_mea, value_mea, label=str(row[1][1]))\n",
    "                plt.plot(time_sim, value_sim, label=str(row[1][1])+'_SIM')\n",
    "            axes=plt.gca()\n",
    "            #            axes.set_ylim([0, 40])\n",
    "            for tick in axes.xaxis.get_major_ticks():\n",
    "                tick.label.set_fontsize(20) \n",
    "            for tick in axes.yaxis.get_major_ticks():\n",
    "                tick.label.set_fontsize(20)     \n",
    "            for tick in axes.get_xticklabels():\n",
    "                tick.set_rotation(0)\n",
    "            axes.legend(prop={'size': 20})\n",
    "            plt.xlabel(\"time (in s)\", fontsize = 32)\n",
    "            plt.ylabel(\"temperature (in °C)\", fontsize = 32)            \n",
    "            font = {'family' : 'normal', 'weight' : 'bold', 'size'   : 35}            \n",
    "            mpl.rc('font', **font)\n",
    "            fig=plt.gcf()\n",
    "            fig.set_size_inches(18.5, 10.5, forward=True)\n",
    "            plt.show()\n",
    "            if  str(row[1][0])!=\"nan\":       \n",
    "                plt.figure()\n",
    "#            fig.savefig('simulation_results.png', dpi=fig.dpi, bbox_inches='tight')    "
   ]
  },
  {
   "cell_type": "markdown",
   "metadata": {},
   "source": [
    "## RMSE"
   ]
  },
  {
   "cell_type": "code",
   "execution_count": null,
   "metadata": {},
   "outputs": [],
   "source": [
    "def RMSE(value_mea,value_sim):\n",
    "    \"\"\"root mean square error\"\"\"\n",
    "    rmse=np.sqrt(((value_mea-value_sim) ** 2).mean())\n",
    "    return rmse"
   ]
  },
  {
   "cell_type": "markdown",
   "metadata": {},
   "source": [
    "## MAE"
   ]
  },
  {
   "cell_type": "code",
   "execution_count": null,
   "metadata": {},
   "outputs": [],
   "source": [
    "def MAE(value_mea,value_sim):\n",
    "    \"\"\"mean absolute error\"\"\"\n",
    "    mea=abs(value_mea-value_sim).mean()\n",
    "    return mea"
   ]
  },
  {
   "cell_type": "markdown",
   "metadata": {},
   "source": [
    "## NRMSE"
   ]
  },
  {
   "cell_type": "code",
   "execution_count": null,
   "metadata": {},
   "outputs": [],
   "source": [
    "def NRMSE(value_mea,value_sim):\n",
    "    \"\"\"normalized root mean square error \"\"\"\n",
    "    nrmse=RMSE(value_mea,value_sim)/(value_mea.max()-value_mea.min())\n",
    "    return nrmse"
   ]
  },
  {
   "cell_type": "markdown",
   "metadata": {},
   "source": [
    "## analyse_result\n",
    "            "
   ]
  },
  {
   "cell_type": "code",
   "execution_count": null,
   "metadata": {},
   "outputs": [],
   "source": [
    "def analyse_result(setuppath,simrespath):\n",
    "#output MAE,RMSE and NRMSE metrics of simulation result and measured data\n",
    "    data = xlrd.open_workbook(setuppath)\n",
    "    table = data.sheet_by_name('setup')\n",
    "    time_start = str(table.cell(2,8).value)\n",
    "    time_end=str(table.cell(2,9).value)\n",
    "    pt = pd.read_excel(setuppath, sheet_name='result plot')\n",
    "    result={\"budo key\":[],\"MAE\":[],\"RMSE\":[],\"NRMSE\":[]}\n",
    "    for row in pt.iterrows():\n",
    "        if str(row[1][1])!=\"nan\":\n",
    "            key='_'.join(str(row[1][1]).split('_')[0:4])\n",
    "            itemID=int(row[1][2])\n",
    "            (value_mea,time_mea,time_mea_date_form)=load_mea_result(key,itemID,time_start,time_end)\n",
    "            variable=str(row[1][0])  \n",
    "            (value_sim,time_sim)=load_sim_result(simrespath,variable)\n",
    "            value_mea=reshape_mea_result(value_mea,time_mea,time_sim)\n",
    "            value_mea=convert_value(str(row[1][3]),str(row[1][4]),value_mea) \n",
    "            rmse=RMSE(value_mea,value_sim)            \n",
    "            mae=MAE(value_mea,value_sim)           \n",
    "            nrmse=NRMSE(value_mea,value_sim)\n",
    "            result[\"budo key\"].append(str(row[1][1]))\n",
    "            result[\"MAE\"].append(mae)\n",
    "            result[\"RMSE\"].append(rmse)\n",
    "            result[\"NRMSE\"].append(nrmse)\n",
    "            df_result = pd.DataFrame(result)\n",
    "    print (df_result)\n",
    "    return df_result"
   ]
  }
 ],
 "metadata": {
  "kernelspec": {
   "display_name": "Python 3",
   "language": "python",
   "name": "python3"
  },
  "language_info": {
   "codemirror_mode": {
    "name": "ipython",
    "version": 3
   },
   "file_extension": ".py",
   "mimetype": "text/x-python",
   "name": "python",
   "nbconvert_exporter": "python",
   "pygments_lexer": "ipython3",
   "version": "3.6.8"
  }
 },
 "nbformat": 4,
 "nbformat_minor": 2
}
